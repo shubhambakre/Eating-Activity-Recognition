{
  "nbformat": 4,
  "nbformat_minor": 0,
  "metadata": {
    "colab": {
      "name": "PCA (Non-eating)",
      "version": "0.3.2",
      "provenance": [],
      "collapsed_sections": []
    },
    "kernelspec": {
      "name": "python3",
      "display_name": "Python 3"
    }
  },
  "cells": [
    {
      "metadata": {
        "id": "P4AaYcRdGX0i",
        "colab_type": "code",
        "colab": {}
      },
      "cell_type": "code",
      "source": [
        "import pandas as pd\n",
        "import numpy as np\n",
        "import matplotlib.pyplot as plt\n",
        "import seaborn as sns; sns.set()\n",
        "from sklearn.decomposition import PCA"
      ],
      "execution_count": 0,
      "outputs": []
    },
    {
      "metadata": {
        "id": "c-FZ-s5BGWLA",
        "colab_type": "code",
        "outputId": "be26d7e6-cd25-49de-f22b-b8bd247e1865",
        "colab": {
          "base_uri": "https://localhost:8080/",
          "height": 70
        }
      },
      "cell_type": "code",
      "source": [
        "df2 = pd.read_csv(\"IMUnoneatingfile.csv\", header = None)\n"
      ],
      "execution_count": 0,
      "outputs": [
        {
          "output_type": "stream",
          "text": [
            "/usr/local/lib/python3.6/dist-packages/IPython/core/interactiveshell.py:2718: DtypeWarning: Columns (0,1,2,3,4,5,6,7,8,9,10,11,12) have mixed types. Specify dtype option on import or set low_memory=False.\n",
            "  interactivity=interactivity, compiler=compiler, result=result)\n"
          ],
          "name": "stderr"
        }
      ]
    },
    {
      "metadata": {
        "id": "Z87kyDmPb0yl",
        "colab_type": "code",
        "outputId": "26bf49b4-48ed-4bfb-bc61-39a8046d826e",
        "colab": {
          "base_uri": "https://localhost:8080/",
          "height": 232
        }
      },
      "cell_type": "code",
      "source": [
        "# Non-eating Data\n",
        "df.head()"
      ],
      "execution_count": 0,
      "outputs": [
        {
          "output_type": "execute_result",
          "data": {
            "text/html": [
              "<div>\n",
              "<style scoped>\n",
              "    .dataframe tbody tr th:only-of-type {\n",
              "        vertical-align: middle;\n",
              "    }\n",
              "\n",
              "    .dataframe tbody tr th {\n",
              "        vertical-align: top;\n",
              "    }\n",
              "\n",
              "    .dataframe thead th {\n",
              "        text-align: right;\n",
              "    }\n",
              "</style>\n",
              "<table border=\"1\" class=\"dataframe\">\n",
              "  <thead>\n",
              "    <tr style=\"text-align: right;\">\n",
              "      <th></th>\n",
              "      <th>Number</th>\n",
              "      <th>Timestamp</th>\n",
              "      <th>Orientation X</th>\n",
              "      <th>Orientation Y</th>\n",
              "      <th>Orientation Z</th>\n",
              "      <th>Orientation W</th>\n",
              "      <th>Accelerometer X</th>\n",
              "      <th>Accelerometer Y</th>\n",
              "      <th>Accelerometer Z</th>\n",
              "      <th>Gyroscope X</th>\n",
              "      <th>Gyroscope Y</th>\n",
              "      <th>Gyroscope Z</th>\n",
              "      <th>X</th>\n",
              "    </tr>\n",
              "  </thead>\n",
              "  <tbody>\n",
              "    <tr>\n",
              "      <th>354234</th>\n",
              "      <td>41</td>\n",
              "      <td>1.500000e+12</td>\n",
              "      <td>0.643</td>\n",
              "      <td>0.057</td>\n",
              "      <td>-0.177</td>\n",
              "      <td>-0.743</td>\n",
              "      <td>0.356</td>\n",
              "      <td>0.138</td>\n",
              "      <td>-0.906</td>\n",
              "      <td>-7.125</td>\n",
              "      <td>0.688</td>\n",
              "      <td>-4.375</td>\n",
              "      <td>0</td>\n",
              "    </tr>\n",
              "    <tr>\n",
              "      <th>354235</th>\n",
              "      <td>41</td>\n",
              "      <td>1.500000e+12</td>\n",
              "      <td>0.644</td>\n",
              "      <td>0.057</td>\n",
              "      <td>-0.178</td>\n",
              "      <td>-0.742</td>\n",
              "      <td>0.371</td>\n",
              "      <td>0.144</td>\n",
              "      <td>-0.904</td>\n",
              "      <td>-6.750</td>\n",
              "      <td>1.125</td>\n",
              "      <td>-6.188</td>\n",
              "      <td>0</td>\n",
              "    </tr>\n",
              "    <tr>\n",
              "      <th>354236</th>\n",
              "      <td>41</td>\n",
              "      <td>1.500000e+12</td>\n",
              "      <td>0.644</td>\n",
              "      <td>0.055</td>\n",
              "      <td>-0.179</td>\n",
              "      <td>-0.741</td>\n",
              "      <td>0.356</td>\n",
              "      <td>0.174</td>\n",
              "      <td>-0.896</td>\n",
              "      <td>-7.438</td>\n",
              "      <td>-4.312</td>\n",
              "      <td>-5.812</td>\n",
              "      <td>0</td>\n",
              "    </tr>\n",
              "    <tr>\n",
              "      <th>354237</th>\n",
              "      <td>41</td>\n",
              "      <td>1.500000e+12</td>\n",
              "      <td>0.645</td>\n",
              "      <td>0.054</td>\n",
              "      <td>-0.179</td>\n",
              "      <td>-0.741</td>\n",
              "      <td>0.332</td>\n",
              "      <td>0.206</td>\n",
              "      <td>-0.890</td>\n",
              "      <td>-6.500</td>\n",
              "      <td>-1.125</td>\n",
              "      <td>-5.562</td>\n",
              "      <td>0</td>\n",
              "    </tr>\n",
              "    <tr>\n",
              "      <th>354238</th>\n",
              "      <td>41</td>\n",
              "      <td>1.500000e+12</td>\n",
              "      <td>0.646</td>\n",
              "      <td>0.053</td>\n",
              "      <td>-0.180</td>\n",
              "      <td>-0.740</td>\n",
              "      <td>0.365</td>\n",
              "      <td>0.209</td>\n",
              "      <td>-0.899</td>\n",
              "      <td>-5.688</td>\n",
              "      <td>-0.125</td>\n",
              "      <td>-3.812</td>\n",
              "      <td>0</td>\n",
              "    </tr>\n",
              "  </tbody>\n",
              "</table>\n",
              "</div>"
            ],
            "text/plain": [
              "        Number     Timestamp  Orientation X  Orientation Y  Orientation Z  \\\n",
              "354234      41  1.500000e+12          0.643          0.057         -0.177   \n",
              "354235      41  1.500000e+12          0.644          0.057         -0.178   \n",
              "354236      41  1.500000e+12          0.644          0.055         -0.179   \n",
              "354237      41  1.500000e+12          0.645          0.054         -0.179   \n",
              "354238      41  1.500000e+12          0.646          0.053         -0.180   \n",
              "\n",
              "        Orientation W  Accelerometer X  Accelerometer Y  Accelerometer Z  \\\n",
              "354234         -0.743            0.356            0.138           -0.906   \n",
              "354235         -0.742            0.371            0.144           -0.904   \n",
              "354236         -0.741            0.356            0.174           -0.896   \n",
              "354237         -0.741            0.332            0.206           -0.890   \n",
              "354238         -0.740            0.365            0.209           -0.899   \n",
              "\n",
              "        Gyroscope X  Gyroscope Y  Gyroscope Z  X  \n",
              "354234       -7.125        0.688       -4.375  0  \n",
              "354235       -6.750        1.125       -6.188  0  \n",
              "354236       -7.438       -4.312       -5.812  0  \n",
              "354237       -6.500       -1.125       -5.562  0  \n",
              "354238       -5.688       -0.125       -3.812  0  "
            ]
          },
          "metadata": {
            "tags": []
          },
          "execution_count": 215
        }
      ]
    },
    {
      "metadata": {
        "id": "UHU-HbRTTFL9",
        "colab_type": "code",
        "colab": {}
      },
      "cell_type": "code",
      "source": [
        "# Variables storing the values for features from Phase 1\n",
        "Ax_X_mean_noneating \n",
        "Ax_X_std_noneating\n",
        "Or_Y_std_noneating\n",
        "Gy_Y_std_noneating\n",
        "Gy_Y_min_noneating\n",
        "Ax_Y_max_noneating\n",
        "Ax_Y_fft_noneating\n",
        "Or_X_rms_noneating\n"
      ],
      "execution_count": 0,
      "outputs": []
    },
    {
      "metadata": {
        "id": "S4yKSHlfTNaK",
        "colab_type": "code",
        "colab": {}
      },
      "cell_type": "code",
      "source": [
        "# Creating feature matrix\n",
        "df_ = pd.concat([pd.DataFrame(list(Ax_X_mean_noneating), columns = ['Ax_X_mean']),\n",
        "pd.DataFrame(list(Ax_X_std_noneating), columns = ['Ax_X_std']),\n",
        "pd.DataFrame(list(Or_Y_std_noneating), columns = ['Or_Y_std']),\n",
        "pd.DataFrame(list(Gy_Y_std_noneating), columns = ['Gy_Y_std']),\n",
        "pd.DataFrame(list(Gy_Y_min_noneating), columns = ['Gy_Y_min']),\n",
        "pd.DataFrame(list(Ax_Y_max_noneating), columns = ['Ax_X_max']),\n",
        "pd.DataFrame(list(Or_X_rms_noneating), columns = ['Or_X_rms'])], axis=1)"
      ],
      "execution_count": 0,
      "outputs": []
    },
    {
      "metadata": {
        "id": "je7HJS42xtHY",
        "colab_type": "code",
        "outputId": "cc5151f6-3cdb-49b4-c61d-57f807ecf5c3",
        "colab": {
          "base_uri": "https://localhost:8080/",
          "height": 50
        }
      },
      "cell_type": "code",
      "source": [
        "import numpy as np\n",
        "from sklearn.decomposition import PCA\n",
        "\n",
        "\n",
        "my_model = PCA(n_components=7)\n",
        "my_model.fit_transform(df_)\n",
        "\n",
        "my_model.explained_variance_"
      ],
      "execution_count": 0,
      "outputs": [
        {
          "output_type": "execute_result",
          "data": {
            "text/plain": [
              "array([5.19513215e+03, 1.38985081e+01, 2.19950232e-01, 9.75090316e-02,\n",
              "       5.18399471e-02, 5.53256248e-03, 4.37693249e-04])"
            ]
          },
          "metadata": {
            "tags": []
          },
          "execution_count": 181
        }
      ]
    },
    {
      "metadata": {
        "id": "I1Vx5A8UiYSL",
        "colab_type": "code",
        "outputId": "9f30b409-451a-4e95-e2cc-89801afcb576",
        "colab": {
          "base_uri": "https://localhost:8080/",
          "height": 50
        }
      },
      "cell_type": "code",
      "source": [
        "my_model.explained_variance_ratio_"
      ],
      "execution_count": 0,
      "outputs": [
        {
          "output_type": "execute_result",
          "data": {
            "text/plain": [
              "array([9.97259999e-01, 2.66796412e-03, 4.22217495e-05, 1.87178793e-05,\n",
              "       9.95122050e-06, 1.06203328e-06, 8.40198009e-08])"
            ]
          },
          "metadata": {
            "tags": []
          },
          "execution_count": 182
        }
      ]
    },
    {
      "metadata": {
        "id": "tTIJ_cU7ihLf",
        "colab_type": "code",
        "outputId": "030cbccc-147e-4fd5-bb07-33396e4cfd4f",
        "colab": {
          "base_uri": "https://localhost:8080/",
          "height": 50
        }
      },
      "cell_type": "code",
      "source": [
        "my_model.explained_variance_ratio_.cumsum()"
      ],
      "execution_count": 0,
      "outputs": [
        {
          "output_type": "execute_result",
          "data": {
            "text/plain": [
              "array([0.99726   , 0.99992796, 0.99997018, 0.9999889 , 0.99999885,\n",
              "       0.99999992, 1.        ])"
            ]
          },
          "metadata": {
            "tags": []
          },
          "execution_count": 183
        }
      ]
    },
    {
      "metadata": {
        "id": "bwSX7CFfiQHu",
        "colab_type": "code",
        "outputId": "4c0692b2-449e-48b4-86a5-3062526b9408",
        "colab": {
          "base_uri": "https://localhost:8080/",
          "height": 605
        }
      },
      "cell_type": "code",
      "source": [
        "pca.components_"
      ],
      "execution_count": 0,
      "outputs": [
        {
          "output_type": "execute_result",
          "data": {
            "text/plain": [
              "array([[-3.38876641e-05,  2.24545565e-05, -2.45783003e-05,\n",
              "         4.95240162e-03, -3.01470339e-01,  4.38014728e-04,\n",
              "        -7.02209197e-05,  9.53462589e-01,  1.38777878e-17,\n",
              "        -9.71445147e-17, -1.11022302e-16,  8.80914265e-20,\n",
              "         6.09863722e-20,  1.64575855e-20],\n",
              "       [-1.35905151e-03,  1.30473104e-03, -1.84040407e-04,\n",
              "         3.01421789e-01,  4.95283042e-03, -1.53525363e-04,\n",
              "        -5.08515996e-03, -8.04911693e-16,  9.53462589e-01,\n",
              "         3.65506236e-15, -1.31838984e-16, -9.62229428e-18,\n",
              "        -8.35312129e-18,  2.10587694e-18],\n",
              "       [-9.07271619e-02,  4.34835508e-03, -3.21131090e-04,\n",
              "         1.31610368e-04,  4.23048795e-04,  2.86420005e-01,\n",
              "         2.49408491e-02,  4.46864767e-15, -2.33320308e-15,\n",
              "         9.53462589e-01,  4.52762827e-16, -4.34451669e-17,\n",
              "        -4.80933661e-17,  3.31317268e-17],\n",
              "       [-3.01568065e-01, -1.46988394e-03,  4.13926865e-04,\n",
              "        -1.53540302e-03, -1.27324622e-04, -9.47992698e-02,\n",
              "        -8.06816294e-03, -2.06779038e-15, -4.38885039e-16,\n",
              "         9.36750677e-17,  9.48683298e-01,  5.12878450e-18,\n",
              "        -1.66804292e-16, -3.61949892e-17],\n",
              "       [-1.39796218e-04, -2.06162528e-03,  1.45317522e-02,\n",
              "        -5.27764333e-03,  2.50875409e-05,  2.74049009e-02,\n",
              "        -3.14651673e-01,  9.08322896e-15, -8.84166872e-17,\n",
              "         1.33817653e-16,  9.05308814e-17,  9.48683298e-01,\n",
              "        -1.46648694e-16, -2.24367879e-17],\n",
              "       [ 2.99458165e-04, -2.64686305e-03,  3.15881244e-01,\n",
              "         4.50799613e-04, -2.30909267e-05, -7.76260970e-04,\n",
              "         1.45305754e-02,  1.91448420e-14,  3.12933273e-15,\n",
              "        -3.37024245e-16, -6.61363325e-16,  4.85147517e-17,\n",
              "         9.48683298e-01, -3.12783251e-16],\n",
              "       [-2.16622750e-05,  3.16170699e-01,  2.74681563e-03,\n",
              "        -1.40840953e-03, -5.95271696e-06, -4.60096998e-03,\n",
              "        -2.32181389e-03, -1.24678046e-13,  6.33521013e-15,\n",
              "        -1.71598846e-14, -1.66047731e-14, -3.47188641e-16,\n",
              "         2.17935225e-15,  9.48683298e-01]])"
            ]
          },
          "metadata": {
            "tags": []
          },
          "execution_count": 213
        }
      ]
    },
    {
      "metadata": {
        "id": "4s9hSnq701YQ",
        "colab_type": "code",
        "outputId": "0d34df71-859f-48cf-da9a-3d0c9768e048",
        "colab": {
          "base_uri": "https://localhost:8080/",
          "height": 1826
        }
      },
      "cell_type": "code",
      "source": [
        "from sklearn.decomposition import PCA\n",
        "import seaborn as sns\n",
        "import numpy as np\n",
        "import matplotlib.pyplot as plt\n",
        "\n",
        "n_components = 7\n",
        "\n",
        "# Do the PCA.\n",
        "pca = PCA(n_components=n_components)\n",
        "reduced = pca.fit_transform(df_)\n",
        "\n",
        "# Append the principle components for each entry to the dataframe\n",
        "for i in range(0, n_components):\n",
        "    df_['PC' + str(i + 1)] = reduced[:, i]\n",
        "\n",
        "display(df_.head())\n",
        "\n",
        "# Do a screen plot\n",
        "ind = np.arange(0, n_components)\n",
        "(fig, ax) = plt.subplots(figsize=(8, 6))\n",
        "sns.pointplot(x=ind, y=pca.explained_variance_ratio_)\n",
        "ax.set_title('Screen plot')\n",
        "ax.set_xticks(ind)\n",
        "ax.set_xticklabels(ind)\n",
        "ax.set_xlabel('Component Number')\n",
        "ax.set_ylabel('Explained Variance')\n",
        "plt.show()\n",
        "\n",
        "# Show the points in terms of the first two PCs\n",
        "g = sns.lmplot('PC1',\n",
        "               'PC2',\n",
        "               data=df_,\n",
        "               fit_reg=False,\n",
        "               scatter=True,\n",
        "               size=7)\n",
        "\n",
        "plt.show()\n",
        "\n",
        "# Plot a variable factor map for the first two dimensions.\n",
        "(fig, ax) = plt.subplots(figsize=(12, 12))\n",
        "for i in range(0, len(pca.components_)):\n",
        "    ax.arrow(0,\n",
        "             0,  # Start the arrow at the origin\n",
        "             pca.components_[0, i],  #0 for PC1\n",
        "             pca.components_[1, i],  #1 for PC2\n",
        "             head_width=0.1,\n",
        "             head_length=0.1)\n",
        "\n",
        "    plt.text(pca.components_[0, i] + 0.05,\n",
        "         pca.components_[1, i] + 0.05,\n",
        "         df_.columns.values[i])\n",
        "\n",
        "an = np.linspace(0, 2 * np.pi, 100)\n",
        "plt.plot(np.cos(an), np.sin(an))  # Add a unit circle for scale\n",
        "plt.axis('equal')\n",
        "ax.set_title('Variable factor map')\n",
        "plt.show()"
      ],
      "execution_count": 0,
      "outputs": [
        {
          "output_type": "display_data",
          "data": {
            "text/html": [
              "<div>\n",
              "<style scoped>\n",
              "    .dataframe tbody tr th:only-of-type {\n",
              "        vertical-align: middle;\n",
              "    }\n",
              "\n",
              "    .dataframe tbody tr th {\n",
              "        vertical-align: top;\n",
              "    }\n",
              "\n",
              "    .dataframe thead th {\n",
              "        text-align: right;\n",
              "    }\n",
              "</style>\n",
              "<table border=\"1\" class=\"dataframe\">\n",
              "  <thead>\n",
              "    <tr style=\"text-align: right;\">\n",
              "      <th></th>\n",
              "      <th>Ax_X_mean</th>\n",
              "      <th>Ax_X_std</th>\n",
              "      <th>Or_Y_std</th>\n",
              "      <th>Gy_Y_std</th>\n",
              "      <th>Gy_Y_min</th>\n",
              "      <th>Ax_X_max</th>\n",
              "      <th>Or_X_rms</th>\n",
              "      <th>PC1</th>\n",
              "      <th>PC2</th>\n",
              "      <th>PC3</th>\n",
              "      <th>PC4</th>\n",
              "      <th>PC5</th>\n",
              "      <th>PC6</th>\n",
              "      <th>PC7</th>\n",
              "    </tr>\n",
              "  </thead>\n",
              "  <tbody>\n",
              "    <tr>\n",
              "      <th>0</th>\n",
              "      <td>0.943284</td>\n",
              "      <td>0.061066</td>\n",
              "      <td>0.435325</td>\n",
              "      <td>15.615816</td>\n",
              "      <td>-105.310</td>\n",
              "      <td>0.443</td>\n",
              "      <td>0.598434</td>\n",
              "      <td>-121.112883</td>\n",
              "      <td>-2.959611</td>\n",
              "      <td>-0.418650</td>\n",
              "      <td>-0.385998</td>\n",
              "      <td>0.036897</td>\n",
              "      <td>1.036226</td>\n",
              "      <td>-0.109883</td>\n",
              "    </tr>\n",
              "    <tr>\n",
              "      <th>1</th>\n",
              "      <td>0.806906</td>\n",
              "      <td>0.080420</td>\n",
              "      <td>0.063509</td>\n",
              "      <td>14.365574</td>\n",
              "      <td>-201.810</td>\n",
              "      <td>0.718</td>\n",
              "      <td>0.825139</td>\n",
              "      <td>198.831079</td>\n",
              "      <td>-12.372468</td>\n",
              "      <td>0.197434</td>\n",
              "      <td>-0.113475</td>\n",
              "      <td>-0.613534</td>\n",
              "      <td>-0.091738</td>\n",
              "      <td>-0.053440</td>\n",
              "    </tr>\n",
              "    <tr>\n",
              "      <th>2</th>\n",
              "      <td>0.810425</td>\n",
              "      <td>0.164748</td>\n",
              "      <td>0.100523</td>\n",
              "      <td>23.969699</td>\n",
              "      <td>-165.130</td>\n",
              "      <td>1.747</td>\n",
              "      <td>0.490698</td>\n",
              "      <td>77.722251</td>\n",
              "      <td>21.487771</td>\n",
              "      <td>3.532655</td>\n",
              "      <td>-1.267838</td>\n",
              "      <td>0.226752</td>\n",
              "      <td>0.001203</td>\n",
              "      <td>0.037170</td>\n",
              "    </tr>\n",
              "    <tr>\n",
              "      <th>3</th>\n",
              "      <td>0.912240</td>\n",
              "      <td>0.091031</td>\n",
              "      <td>0.063271</td>\n",
              "      <td>18.884034</td>\n",
              "      <td>-229.810</td>\n",
              "      <td>0.226</td>\n",
              "      <td>0.787798</td>\n",
              "      <td>291.927715</td>\n",
              "      <td>1.085142</td>\n",
              "      <td>-1.591288</td>\n",
              "      <td>0.004414</td>\n",
              "      <td>-0.876766</td>\n",
              "      <td>-0.067229</td>\n",
              "      <td>-0.058387</td>\n",
              "    </tr>\n",
              "    <tr>\n",
              "      <th>4</th>\n",
              "      <td>0.825986</td>\n",
              "      <td>0.119239</td>\n",
              "      <td>0.077878</td>\n",
              "      <td>15.079134</td>\n",
              "      <td>-83.562</td>\n",
              "      <td>0.158</td>\n",
              "      <td>0.768975</td>\n",
              "      <td>-193.263617</td>\n",
              "      <td>-3.559945</td>\n",
              "      <td>-1.048253</td>\n",
              "      <td>0.202368</td>\n",
              "      <td>-0.597015</td>\n",
              "      <td>-0.075223</td>\n",
              "      <td>0.079665</td>\n",
              "    </tr>\n",
              "  </tbody>\n",
              "</table>\n",
              "</div>"
            ],
            "text/plain": [
              "   Ax_X_mean  Ax_X_std  Or_Y_std   Gy_Y_std  Gy_Y_min  Ax_X_max  Or_X_rms  \\\n",
              "0   0.943284  0.061066  0.435325  15.615816  -105.310     0.443  0.598434   \n",
              "1   0.806906  0.080420  0.063509  14.365574  -201.810     0.718  0.825139   \n",
              "2   0.810425  0.164748  0.100523  23.969699  -165.130     1.747  0.490698   \n",
              "3   0.912240  0.091031  0.063271  18.884034  -229.810     0.226  0.787798   \n",
              "4   0.825986  0.119239  0.077878  15.079134   -83.562     0.158  0.768975   \n",
              "\n",
              "          PC1        PC2       PC3       PC4       PC5       PC6       PC7  \n",
              "0 -121.112883  -2.959611 -0.418650 -0.385998  0.036897  1.036226 -0.109883  \n",
              "1  198.831079 -12.372468  0.197434 -0.113475 -0.613534 -0.091738 -0.053440  \n",
              "2   77.722251  21.487771  3.532655 -1.267838  0.226752  0.001203  0.037170  \n",
              "3  291.927715   1.085142 -1.591288  0.004414 -0.876766 -0.067229 -0.058387  \n",
              "4 -193.263617  -3.559945 -1.048253  0.202368 -0.597015 -0.075223  0.079665  "
            ]
          },
          "metadata": {
            "tags": []
          }
        },
        {
          "output_type": "stream",
          "text": [
            "/usr/local/lib/python3.6/dist-packages/seaborn/categorical.py:1428: FutureWarning: remove_na is deprecated and is a private function. Do not use.\n",
            "  stat_data = remove_na(group_data)\n"
          ],
          "name": "stderr"
        },
        {
          "output_type": "display_data",
          "data": {
            "image/png": "[encoded data removed]",
            "text/plain": [
              "<Figure size 576x432 with 1 Axes>"
            ]
          },
          "metadata": {
            "tags": []
          }
        },
        {
          "output_type": "display_data",
          "data": {
            "image/png": "[encoded data removed]",
            "text/plain": [
              "<Figure size 504x504 with 1 Axes>"
            ]
          },
          "metadata": {
            "tags": []
          }
        },
        {
          "output_type": "display_data",
          "data": {
            "image/png": "[encoded data removed]",
            "text/plain": [
              "<Figure size 864x864 with 1 Axes>"
            ]
          },
          "metadata": {
            "tags": []
          }
        }
      ]
    },
    {
      "metadata": {
        "id": "La2IUfQTZDCe",
        "colab_type": "code",
        "outputId": "f1c099b7-bb86-494b-92f0-2215054bb5b1",
        "colab": {
          "base_uri": "https://localhost:8080/",
          "height": 215
        }
      },
      "cell_type": "code",
      "source": [
        "df_.head()"
      ],
      "execution_count": 0,
      "outputs": [
        {
          "output_type": "execute_result",
          "data": {
            "text/html": [
              "<div>\n",
              "<style scoped>\n",
              "    .dataframe tbody tr th:only-of-type {\n",
              "        vertical-align: middle;\n",
              "    }\n",
              "\n",
              "    .dataframe tbody tr th {\n",
              "        vertical-align: top;\n",
              "    }\n",
              "\n",
              "    .dataframe thead th {\n",
              "        text-align: right;\n",
              "    }\n",
              "</style>\n",
              "<table border=\"1\" class=\"dataframe\">\n",
              "  <thead>\n",
              "    <tr style=\"text-align: right;\">\n",
              "      <th></th>\n",
              "      <th>Ax_X_mean</th>\n",
              "      <th>Ax_X_std</th>\n",
              "      <th>Or_Y_std</th>\n",
              "      <th>Gy_Y_std</th>\n",
              "      <th>Gy_Y_min</th>\n",
              "      <th>Ax_X_max</th>\n",
              "      <th>Or_X_rms</th>\n",
              "      <th>PC1</th>\n",
              "      <th>PC2</th>\n",
              "      <th>PC3</th>\n",
              "      <th>PC4</th>\n",
              "      <th>PC5</th>\n",
              "      <th>PC6</th>\n",
              "      <th>PC7</th>\n",
              "    </tr>\n",
              "  </thead>\n",
              "  <tbody>\n",
              "    <tr>\n",
              "      <th>0</th>\n",
              "      <td>0.943284</td>\n",
              "      <td>0.061066</td>\n",
              "      <td>0.435325</td>\n",
              "      <td>15.615816</td>\n",
              "      <td>-105.310</td>\n",
              "      <td>0.443</td>\n",
              "      <td>0.598434</td>\n",
              "      <td>-121.112883</td>\n",
              "      <td>-2.959611</td>\n",
              "      <td>-0.418650</td>\n",
              "      <td>-0.385998</td>\n",
              "      <td>0.036897</td>\n",
              "      <td>1.036226</td>\n",
              "      <td>-0.109883</td>\n",
              "    </tr>\n",
              "    <tr>\n",
              "      <th>1</th>\n",
              "      <td>0.806906</td>\n",
              "      <td>0.080420</td>\n",
              "      <td>0.063509</td>\n",
              "      <td>14.365574</td>\n",
              "      <td>-201.810</td>\n",
              "      <td>0.718</td>\n",
              "      <td>0.825139</td>\n",
              "      <td>198.831079</td>\n",
              "      <td>-12.372468</td>\n",
              "      <td>0.197434</td>\n",
              "      <td>-0.113475</td>\n",
              "      <td>-0.613534</td>\n",
              "      <td>-0.091738</td>\n",
              "      <td>-0.053440</td>\n",
              "    </tr>\n",
              "    <tr>\n",
              "      <th>2</th>\n",
              "      <td>0.810425</td>\n",
              "      <td>0.164748</td>\n",
              "      <td>0.100523</td>\n",
              "      <td>23.969699</td>\n",
              "      <td>-165.130</td>\n",
              "      <td>1.747</td>\n",
              "      <td>0.490698</td>\n",
              "      <td>77.722251</td>\n",
              "      <td>21.487771</td>\n",
              "      <td>3.532655</td>\n",
              "      <td>-1.267838</td>\n",
              "      <td>0.226752</td>\n",
              "      <td>0.001203</td>\n",
              "      <td>0.037170</td>\n",
              "    </tr>\n",
              "    <tr>\n",
              "      <th>3</th>\n",
              "      <td>0.912240</td>\n",
              "      <td>0.091031</td>\n",
              "      <td>0.063271</td>\n",
              "      <td>18.884034</td>\n",
              "      <td>-229.810</td>\n",
              "      <td>0.226</td>\n",
              "      <td>0.787798</td>\n",
              "      <td>291.927715</td>\n",
              "      <td>1.085142</td>\n",
              "      <td>-1.591288</td>\n",
              "      <td>0.004414</td>\n",
              "      <td>-0.876766</td>\n",
              "      <td>-0.067229</td>\n",
              "      <td>-0.058387</td>\n",
              "    </tr>\n",
              "    <tr>\n",
              "      <th>4</th>\n",
              "      <td>0.825986</td>\n",
              "      <td>0.119239</td>\n",
              "      <td>0.077878</td>\n",
              "      <td>15.079134</td>\n",
              "      <td>-83.562</td>\n",
              "      <td>0.158</td>\n",
              "      <td>0.768975</td>\n",
              "      <td>-193.263617</td>\n",
              "      <td>-3.559945</td>\n",
              "      <td>-1.048253</td>\n",
              "      <td>0.202368</td>\n",
              "      <td>-0.597015</td>\n",
              "      <td>-0.075223</td>\n",
              "      <td>0.079665</td>\n",
              "    </tr>\n",
              "  </tbody>\n",
              "</table>\n",
              "</div>"
            ],
            "text/plain": [
              "   Ax_X_mean  Ax_X_std  Or_Y_std   Gy_Y_std  Gy_Y_min  Ax_X_max  Or_X_rms  \\\n",
              "0   0.943284  0.061066  0.435325  15.615816  -105.310     0.443  0.598434   \n",
              "1   0.806906  0.080420  0.063509  14.365574  -201.810     0.718  0.825139   \n",
              "2   0.810425  0.164748  0.100523  23.969699  -165.130     1.747  0.490698   \n",
              "3   0.912240  0.091031  0.063271  18.884034  -229.810     0.226  0.787798   \n",
              "4   0.825986  0.119239  0.077878  15.079134   -83.562     0.158  0.768975   \n",
              "\n",
              "          PC1        PC2       PC3       PC4       PC5       PC6       PC7  \n",
              "0 -121.112883  -2.959611 -0.418650 -0.385998  0.036897  1.036226 -0.109883  \n",
              "1  198.831079 -12.372468  0.197434 -0.113475 -0.613534 -0.091738 -0.053440  \n",
              "2   77.722251  21.487771  3.532655 -1.267838  0.226752  0.001203  0.037170  \n",
              "3  291.927715   1.085142 -1.591288  0.004414 -0.876766 -0.067229 -0.058387  \n",
              "4 -193.263617  -3.559945 -1.048253  0.202368 -0.597015 -0.075223  0.079665  "
            ]
          },
          "metadata": {
            "tags": []
          },
          "execution_count": 216
        }
      ]
    },
    {
      "metadata": {
        "id": "sK8ZbVC3txW6",
        "colab_type": "code",
        "outputId": "d74c183f-f326-47b7-fbd7-3cb6e955e3b8",
        "colab": {
          "base_uri": "https://localhost:8080/",
          "height": 248
        }
      },
      "cell_type": "code",
      "source": [
        "%matplotlib inline\n",
        "import numpy as np\n",
        "from mpl_toolkits import mplot3d\n",
        "import matplotlib.pyplot as plt\n",
        "fig = plt.figure()\n",
        "ax = plt.axes(projection='3d')\n",
        "\n",
        "\n",
        "# Data for three-dimensional scattered points\n",
        "zdata = df_['PC3']\n",
        "xdata = df_['PC1']\n",
        "ydata = df_['PC2']\n",
        "ax.scatter3D(xdata, ydata, zdata, c=\"green\");"
      ],
      "execution_count": 0,
      "outputs": [
        {
          "output_type": "display_data",
          "data": {
            "image/png": "[encoded data removed]",
            "text/plain": [
              "<Figure size 432x288 with 1 Axes>"
            ]
          },
          "metadata": {
            "tags": []
          }
        }
      ]
    },
    {
      "metadata": {
        "id": "h5pEVsDdcMrO",
        "colab_type": "code",
        "colab": {}
      },
      "cell_type": "code",
      "source": [
        ""
      ],
      "execution_count": 0,
      "outputs": []
    }
  ]
}