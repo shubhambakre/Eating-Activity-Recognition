{
  "nbformat": 4,
  "nbformat_minor": 0,
  "metadata": {
    "colab": {
      "name": "PCA (Eating)",
      "version": "0.3.2",
      "provenance": []
    },
    "kernelspec": {
      "name": "python3",
      "display_name": "Python 3"
    }
  },
  "cells": [
    {
      "metadata": {
        "id": "P6pw1IYBoCUc",
        "colab_type": "code",
        "colab": {}
      },
      "cell_type": "code",
      "source": [
        "import pandas as pd\n",
        "import numpy as np\n",
        "import matplotlib.pyplot as plt\n",
        "import seaborn as sns; sns.set()\n",
        "from sklearn.decomposition import PCA\n",
        "\n",
        "df1 = pd.read_csv(\"IMUeatingfile.csv\")"
      ],
      "execution_count": 0,
      "outputs": []
    },
    {
      "metadata": {
        "id": "ZBdnKtu3oDb3",
        "colab_type": "code",
        "colab": {}
      },
      "cell_type": "code",
      "source": [
        "# Variables storing the values for features from Phase 1\n",
        "Ax_X_mean_noneating \n",
        "Ax_X_std_noneating\n",
        "Or_Y_std_noneating\n",
        "Gy_Y_std_noneating\n",
        "Gy_Y_min_noneating\n",
        "Ax_Y_max_noneating\n",
        "Or_X_rms_noneating"
      ],
      "execution_count": 0,
      "outputs": []
    },
    {
      "metadata": {
        "id": "lNh7EafuoR6M",
        "colab_type": "code",
        "colab": {}
      },
      "cell_type": "code",
      "source": [
        "column = ['Orientation X', 'Orientation Y', 'Orientation Z', 'Orientation W', 'Accelerometer X', 'Accelerometer Y', 'Accelerometer Z', 'Gyroscope X', 'Gyroscope Y', 'Gyroscope Z']\n",
        "\n",
        "df = pd.read_csv(\"IMUeatingfile.csv\")\n",
        "a = df['Number'].unique()\n",
        "a.sort()\n",
        "\n",
        "li = {}\n",
        "for i in a:\n",
        "  li[i] = df.loc[df['Number'] == i]\n",
        "  \n",
        "x1, y1 = {}, {}\n",
        "# Mean of EMG1 for all Eating\n",
        "means_eating = {}\n",
        "for j in column:\n",
        "  for i in a: # i is no of persons\n",
        "    df = li[i] #Returns df for person i\n",
        "    col = j # Column IMU1, IMU2...\n",
        "    means_eating[i] = df[col].max() # means_eating[1] is mean of EMG1\n",
        "    #print(\"Done for person \", i)\n",
        "  lists = sorted(means_eating.items()) # sorted by key, return a list of tuples\n",
        "  u, v = zip(*lists) # unpack a list of pairs into two tuples\n",
        "  x1[j], y1[j] = u, v\n",
        "  #print(\"Done for col \",col )\n",
        "  \n",
        "  \n",
        "#Ax_X_mean_eating = y1['Accelerometer X']\n",
        "#Ax_X_std_eating = y1['Accelerometer X']\n",
        "#Or_Y_std_eating = y1['Orientation Y']\n",
        "#Gy_Y_std_eating = y1['Gyroscope Y']\n",
        "#Gy_Y_min_eating= y1['Gyroscope Y']\n",
        "#Ax_Y_max_eating = y1['Accelerometer Y']\n",
        "#Or_X_rms_noneating = y1['Orientation X']\n"
      ],
      "execution_count": 0,
      "outputs": []
    },
    {
      "metadata": {
        "id": "KMX7Q7USo4E8",
        "colab_type": "code",
        "colab": {}
      },
      "cell_type": "code",
      "source": [
        "# Creating feature matrix\n",
        "df_ = pd.concat([pd.DataFrame(list(Ax_X_mean_eating), columns = ['Ax_X_mean']),\n",
        "pd.DataFrame(list(Ax_X_std_eating), columns = ['Ax_X_std']),\n",
        "pd.DataFrame(list(Or_Y_std_eating), columns = ['Or_Y_std']),\n",
        "pd.DataFrame(list(Gy_Y_std_eating), columns = ['Gy_Y_std']),\n",
        "pd.DataFrame(list(Gy_Y_min_eating), columns = ['Gy_Y_min']),\n",
        "pd.DataFrame(list(Ax_Y_max_eating), columns = ['Ax_X_max']),\n",
        "pd.DataFrame(list(Or_X_rms_noneating), columns = ['Or_X_rms'])], axis=1)"
      ],
      "execution_count": 0,
      "outputs": []
    },
    {
      "metadata": {
        "id": "jmhml486qg9o",
        "colab_type": "code",
        "outputId": "1b93c880-6745-429a-e401-168e989842e9",
        "colab": {
          "base_uri": "https://localhost:8080/",
          "height": 935
        }
      },
      "cell_type": "code",
      "source": [
        "df_"
      ],
      "execution_count": 0,
      "outputs": [
        {
          "output_type": "execute_result",
          "data": {
            "text/html": [
              "<div>\n",
              "<style scoped>\n",
              "    .dataframe tbody tr th:only-of-type {\n",
              "        vertical-align: middle;\n",
              "    }\n",
              "\n",
              "    .dataframe tbody tr th {\n",
              "        vertical-align: top;\n",
              "    }\n",
              "\n",
              "    .dataframe thead th {\n",
              "        text-align: right;\n",
              "    }\n",
              "</style>\n",
              "<table border=\"1\" class=\"dataframe\">\n",
              "  <thead>\n",
              "    <tr style=\"text-align: right;\">\n",
              "      <th></th>\n",
              "      <th>Ax_X_mean</th>\n",
              "      <th>Ax_X_std</th>\n",
              "      <th>Or_Y_std</th>\n",
              "      <th>Gy_Y_std</th>\n",
              "      <th>Gy_Y_min</th>\n",
              "      <th>Ax_X_max</th>\n",
              "      <th>Or_X_rms</th>\n",
              "    </tr>\n",
              "  </thead>\n",
              "  <tbody>\n",
              "    <tr>\n",
              "      <th>0</th>\n",
              "      <td>0.946425</td>\n",
              "      <td>0.063256</td>\n",
              "      <td>0.441103</td>\n",
              "      <td>17.903207</td>\n",
              "      <td>-66.875</td>\n",
              "      <td>0.188</td>\n",
              "      <td>0.571991</td>\n",
              "    </tr>\n",
              "    <tr>\n",
              "      <th>1</th>\n",
              "      <td>0.799442</td>\n",
              "      <td>0.090656</td>\n",
              "      <td>0.069035</td>\n",
              "      <td>12.515566</td>\n",
              "      <td>-57.312</td>\n",
              "      <td>0.122</td>\n",
              "      <td>0.823019</td>\n",
              "    </tr>\n",
              "    <tr>\n",
              "      <th>2</th>\n",
              "      <td>0.831530</td>\n",
              "      <td>0.132440</td>\n",
              "      <td>0.090091</td>\n",
              "      <td>20.794830</td>\n",
              "      <td>-115.190</td>\n",
              "      <td>0.096</td>\n",
              "      <td>0.466557</td>\n",
              "    </tr>\n",
              "    <tr>\n",
              "      <th>3</th>\n",
              "      <td>0.907349</td>\n",
              "      <td>0.110793</td>\n",
              "      <td>0.076859</td>\n",
              "      <td>15.878719</td>\n",
              "      <td>-79.312</td>\n",
              "      <td>0.116</td>\n",
              "      <td>0.791635</td>\n",
              "    </tr>\n",
              "    <tr>\n",
              "      <th>4</th>\n",
              "      <td>0.793477</td>\n",
              "      <td>0.137349</td>\n",
              "      <td>0.081490</td>\n",
              "      <td>19.122790</td>\n",
              "      <td>-162.630</td>\n",
              "      <td>0.484</td>\n",
              "      <td>0.781090</td>\n",
              "    </tr>\n",
              "    <tr>\n",
              "      <th>5</th>\n",
              "      <td>-0.922377</td>\n",
              "      <td>0.104120</td>\n",
              "      <td>0.103747</td>\n",
              "      <td>21.204174</td>\n",
              "      <td>-167.190</td>\n",
              "      <td>0.896</td>\n",
              "      <td>0.519368</td>\n",
              "    </tr>\n",
              "    <tr>\n",
              "      <th>6</th>\n",
              "      <td>0.817414</td>\n",
              "      <td>0.106410</td>\n",
              "      <td>0.074257</td>\n",
              "      <td>16.075812</td>\n",
              "      <td>-158.750</td>\n",
              "      <td>0.171</td>\n",
              "      <td>0.129079</td>\n",
              "    </tr>\n",
              "    <tr>\n",
              "      <th>7</th>\n",
              "      <td>0.706866</td>\n",
              "      <td>0.164320</td>\n",
              "      <td>0.258655</td>\n",
              "      <td>18.508217</td>\n",
              "      <td>-80.750</td>\n",
              "      <td>0.213</td>\n",
              "      <td>0.573601</td>\n",
              "    </tr>\n",
              "    <tr>\n",
              "      <th>8</th>\n",
              "      <td>0.824171</td>\n",
              "      <td>0.078671</td>\n",
              "      <td>0.044349</td>\n",
              "      <td>16.457886</td>\n",
              "      <td>-95.188</td>\n",
              "      <td>0.238</td>\n",
              "      <td>0.853004</td>\n",
              "    </tr>\n",
              "    <tr>\n",
              "      <th>9</th>\n",
              "      <td>0.900094</td>\n",
              "      <td>0.072330</td>\n",
              "      <td>0.079732</td>\n",
              "      <td>11.424031</td>\n",
              "      <td>-48.438</td>\n",
              "      <td>0.239</td>\n",
              "      <td>0.534476</td>\n",
              "    </tr>\n",
              "    <tr>\n",
              "      <th>10</th>\n",
              "      <td>0.961001</td>\n",
              "      <td>0.072090</td>\n",
              "      <td>0.092511</td>\n",
              "      <td>14.912092</td>\n",
              "      <td>-107.810</td>\n",
              "      <td>0.336</td>\n",
              "      <td>0.496079</td>\n",
              "    </tr>\n",
              "    <tr>\n",
              "      <th>11</th>\n",
              "      <td>0.865662</td>\n",
              "      <td>0.082335</td>\n",
              "      <td>0.100274</td>\n",
              "      <td>17.200280</td>\n",
              "      <td>-60.875</td>\n",
              "      <td>0.040</td>\n",
              "      <td>0.434493</td>\n",
              "    </tr>\n",
              "    <tr>\n",
              "      <th>12</th>\n",
              "      <td>0.765236</td>\n",
              "      <td>0.111050</td>\n",
              "      <td>0.047656</td>\n",
              "      <td>15.368677</td>\n",
              "      <td>-106.440</td>\n",
              "      <td>0.220</td>\n",
              "      <td>0.832612</td>\n",
              "    </tr>\n",
              "    <tr>\n",
              "      <th>13</th>\n",
              "      <td>0.921648</td>\n",
              "      <td>0.072889</td>\n",
              "      <td>0.086133</td>\n",
              "      <td>13.603156</td>\n",
              "      <td>-51.312</td>\n",
              "      <td>0.328</td>\n",
              "      <td>0.275756</td>\n",
              "    </tr>\n",
              "    <tr>\n",
              "      <th>14</th>\n",
              "      <td>0.810924</td>\n",
              "      <td>0.204061</td>\n",
              "      <td>0.088666</td>\n",
              "      <td>19.299456</td>\n",
              "      <td>-102.000</td>\n",
              "      <td>0.189</td>\n",
              "      <td>0.159239</td>\n",
              "    </tr>\n",
              "    <tr>\n",
              "      <th>15</th>\n",
              "      <td>0.917939</td>\n",
              "      <td>0.072872</td>\n",
              "      <td>0.130071</td>\n",
              "      <td>19.439917</td>\n",
              "      <td>-109.690</td>\n",
              "      <td>0.750</td>\n",
              "      <td>0.255497</td>\n",
              "    </tr>\n",
              "    <tr>\n",
              "      <th>16</th>\n",
              "      <td>0.822400</td>\n",
              "      <td>0.125896</td>\n",
              "      <td>0.127769</td>\n",
              "      <td>20.743668</td>\n",
              "      <td>-161.750</td>\n",
              "      <td>0.088</td>\n",
              "      <td>0.150776</td>\n",
              "    </tr>\n",
              "    <tr>\n",
              "      <th>17</th>\n",
              "      <td>0.855566</td>\n",
              "      <td>0.173436</td>\n",
              "      <td>0.095532</td>\n",
              "      <td>20.533187</td>\n",
              "      <td>-50.500</td>\n",
              "      <td>0.172</td>\n",
              "      <td>0.516923</td>\n",
              "    </tr>\n",
              "    <tr>\n",
              "      <th>18</th>\n",
              "      <td>0.655015</td>\n",
              "      <td>0.134251</td>\n",
              "      <td>0.100463</td>\n",
              "      <td>17.377231</td>\n",
              "      <td>-118.380</td>\n",
              "      <td>0.257</td>\n",
              "      <td>0.888755</td>\n",
              "    </tr>\n",
              "    <tr>\n",
              "      <th>19</th>\n",
              "      <td>0.836372</td>\n",
              "      <td>0.096878</td>\n",
              "      <td>0.077936</td>\n",
              "      <td>16.759503</td>\n",
              "      <td>-68.500</td>\n",
              "      <td>0.277</td>\n",
              "      <td>0.829327</td>\n",
              "    </tr>\n",
              "    <tr>\n",
              "      <th>20</th>\n",
              "      <td>0.919597</td>\n",
              "      <td>0.092945</td>\n",
              "      <td>0.076088</td>\n",
              "      <td>11.228494</td>\n",
              "      <td>-139.000</td>\n",
              "      <td>0.520</td>\n",
              "      <td>0.612252</td>\n",
              "    </tr>\n",
              "    <tr>\n",
              "      <th>21</th>\n",
              "      <td>0.945357</td>\n",
              "      <td>0.070709</td>\n",
              "      <td>0.080690</td>\n",
              "      <td>16.294569</td>\n",
              "      <td>-71.188</td>\n",
              "      <td>0.083</td>\n",
              "      <td>0.611393</td>\n",
              "    </tr>\n",
              "    <tr>\n",
              "      <th>22</th>\n",
              "      <td>0.904116</td>\n",
              "      <td>0.099822</td>\n",
              "      <td>0.086797</td>\n",
              "      <td>12.480392</td>\n",
              "      <td>-84.375</td>\n",
              "      <td>0.259</td>\n",
              "      <td>0.720507</td>\n",
              "    </tr>\n",
              "    <tr>\n",
              "      <th>23</th>\n",
              "      <td>0.839873</td>\n",
              "      <td>0.152271</td>\n",
              "      <td>0.094322</td>\n",
              "      <td>21.656529</td>\n",
              "      <td>-99.188</td>\n",
              "      <td>0.374</td>\n",
              "      <td>0.154904</td>\n",
              "    </tr>\n",
              "    <tr>\n",
              "      <th>24</th>\n",
              "      <td>0.796980</td>\n",
              "      <td>0.156654</td>\n",
              "      <td>0.118879</td>\n",
              "      <td>18.021987</td>\n",
              "      <td>-85.500</td>\n",
              "      <td>0.110</td>\n",
              "      <td>0.852683</td>\n",
              "    </tr>\n",
              "    <tr>\n",
              "      <th>25</th>\n",
              "      <td>0.819607</td>\n",
              "      <td>0.078447</td>\n",
              "      <td>0.066158</td>\n",
              "      <td>14.075933</td>\n",
              "      <td>-84.812</td>\n",
              "      <td>0.167</td>\n",
              "      <td>0.726616</td>\n",
              "    </tr>\n",
              "    <tr>\n",
              "      <th>26</th>\n",
              "      <td>0.686537</td>\n",
              "      <td>0.138646</td>\n",
              "      <td>0.055093</td>\n",
              "      <td>16.502030</td>\n",
              "      <td>-66.625</td>\n",
              "      <td>0.801</td>\n",
              "      <td>0.708978</td>\n",
              "    </tr>\n",
              "    <tr>\n",
              "      <th>27</th>\n",
              "      <td>0.872800</td>\n",
              "      <td>0.147529</td>\n",
              "      <td>0.085286</td>\n",
              "      <td>14.255715</td>\n",
              "      <td>-72.812</td>\n",
              "      <td>0.174</td>\n",
              "      <td>0.725638</td>\n",
              "    </tr>\n",
              "    <tr>\n",
              "      <th>28</th>\n",
              "      <td>0.804260</td>\n",
              "      <td>0.172348</td>\n",
              "      <td>0.099691</td>\n",
              "      <td>27.634483</td>\n",
              "      <td>-96.438</td>\n",
              "      <td>0.172</td>\n",
              "      <td>0.851203</td>\n",
              "    </tr>\n",
              "    <tr>\n",
              "      <th>29</th>\n",
              "      <td>0.700621</td>\n",
              "      <td>0.101586</td>\n",
              "      <td>0.117828</td>\n",
              "      <td>9.522406</td>\n",
              "      <td>-92.750</td>\n",
              "      <td>0.239</td>\n",
              "      <td>0.472652</td>\n",
              "    </tr>\n",
              "  </tbody>\n",
              "</table>\n",
              "</div>"
            ],
            "text/plain": [
              "    Ax_X_mean  Ax_X_std  Or_Y_std   Gy_Y_std  Gy_Y_min  Ax_X_max  Or_X_rms\n",
              "0    0.946425  0.063256  0.441103  17.903207   -66.875     0.188  0.571991\n",
              "1    0.799442  0.090656  0.069035  12.515566   -57.312     0.122  0.823019\n",
              "2    0.831530  0.132440  0.090091  20.794830  -115.190     0.096  0.466557\n",
              "3    0.907349  0.110793  0.076859  15.878719   -79.312     0.116  0.791635\n",
              "4    0.793477  0.137349  0.081490  19.122790  -162.630     0.484  0.781090\n",
              "5   -0.922377  0.104120  0.103747  21.204174  -167.190     0.896  0.519368\n",
              "6    0.817414  0.106410  0.074257  16.075812  -158.750     0.171  0.129079\n",
              "7    0.706866  0.164320  0.258655  18.508217   -80.750     0.213  0.573601\n",
              "8    0.824171  0.078671  0.044349  16.457886   -95.188     0.238  0.853004\n",
              "9    0.900094  0.072330  0.079732  11.424031   -48.438     0.239  0.534476\n",
              "10   0.961001  0.072090  0.092511  14.912092  -107.810     0.336  0.496079\n",
              "11   0.865662  0.082335  0.100274  17.200280   -60.875     0.040  0.434493\n",
              "12   0.765236  0.111050  0.047656  15.368677  -106.440     0.220  0.832612\n",
              "13   0.921648  0.072889  0.086133  13.603156   -51.312     0.328  0.275756\n",
              "14   0.810924  0.204061  0.088666  19.299456  -102.000     0.189  0.159239\n",
              "15   0.917939  0.072872  0.130071  19.439917  -109.690     0.750  0.255497\n",
              "16   0.822400  0.125896  0.127769  20.743668  -161.750     0.088  0.150776\n",
              "17   0.855566  0.173436  0.095532  20.533187   -50.500     0.172  0.516923\n",
              "18   0.655015  0.134251  0.100463  17.377231  -118.380     0.257  0.888755\n",
              "19   0.836372  0.096878  0.077936  16.759503   -68.500     0.277  0.829327\n",
              "20   0.919597  0.092945  0.076088  11.228494  -139.000     0.520  0.612252\n",
              "21   0.945357  0.070709  0.080690  16.294569   -71.188     0.083  0.611393\n",
              "22   0.904116  0.099822  0.086797  12.480392   -84.375     0.259  0.720507\n",
              "23   0.839873  0.152271  0.094322  21.656529   -99.188     0.374  0.154904\n",
              "24   0.796980  0.156654  0.118879  18.021987   -85.500     0.110  0.852683\n",
              "25   0.819607  0.078447  0.066158  14.075933   -84.812     0.167  0.726616\n",
              "26   0.686537  0.138646  0.055093  16.502030   -66.625     0.801  0.708978\n",
              "27   0.872800  0.147529  0.085286  14.255715   -72.812     0.174  0.725638\n",
              "28   0.804260  0.172348  0.099691  27.634483   -96.438     0.172  0.851203\n",
              "29   0.700621  0.101586  0.117828   9.522406   -92.750     0.239  0.472652"
            ]
          },
          "metadata": {
            "tags": []
          },
          "execution_count": 45
        }
      ]
    },
    {
      "metadata": {
        "id": "7XjXPJrjqhzP",
        "colab_type": "code",
        "outputId": "1255649f-263b-4353-f4fe-d52d39787c5d",
        "colab": {
          "base_uri": "https://localhost:8080/",
          "height": 50
        }
      },
      "cell_type": "code",
      "source": [
        "import numpy as np\n",
        "from sklearn.decomposition import PCA\n",
        "\n",
        "\n",
        "my_model = PCA(n_components=7)\n",
        "my_model.fit_transform(df_)\n",
        "\n",
        "my_model.explained_variance_"
      ],
      "execution_count": 0,
      "outputs": [
        {
          "output_type": "execute_result",
          "data": {
            "text/plain": [
              "array([1.19191826e+03, 1.30266662e+01, 1.03436727e-01, 5.33072083e-02,\n",
              "       2.63282838e-02, 5.04435897e-03, 9.12386831e-04])"
            ]
          },
          "metadata": {
            "tags": []
          },
          "execution_count": 46
        }
      ]
    },
    {
      "metadata": {
        "id": "rpM0XHQ-rC1d",
        "colab_type": "code",
        "outputId": "6996882c-a814-4170-ae1b-c1e53f9dedab",
        "colab": {
          "base_uri": "https://localhost:8080/",
          "height": 50
        }
      },
      "cell_type": "code",
      "source": [
        "my_model.explained_variance_ratio_\n"
      ],
      "execution_count": 0,
      "outputs": [
        {
          "output_type": "execute_result",
          "data": {
            "text/plain": [
              "array([9.89033837e-01, 1.08093098e-02, 8.58300659e-05, 4.42334299e-05,\n",
              "       2.18467696e-05, 4.18572471e-06, 7.57083334e-07])"
            ]
          },
          "metadata": {
            "tags": []
          },
          "execution_count": 47
        }
      ]
    },
    {
      "metadata": {
        "id": "E-tTU5RssQwI",
        "colab_type": "code",
        "outputId": "810116db-b0fc-4f22-d74e-1f91c362c15b",
        "colab": {
          "base_uri": "https://localhost:8080/",
          "height": 50
        }
      },
      "cell_type": "code",
      "source": [
        "my_model.explained_variance_ratio_.cumsum()"
      ],
      "execution_count": 0,
      "outputs": [
        {
          "output_type": "execute_result",
          "data": {
            "text/plain": [
              "array([0.98903384, 0.99984315, 0.99992898, 0.99997321, 0.99999506,\n",
              "       0.99999924, 1.        ])"
            ]
          },
          "metadata": {
            "tags": []
          },
          "execution_count": 48
        }
      ]
    },
    {
      "metadata": {
        "id": "a3HbNYVisVTL",
        "colab_type": "code",
        "outputId": "0b3c406e-d24d-4af5-ea1b-4f3e62e1a5e5",
        "colab": {
          "base_uri": "https://localhost:8080/",
          "height": 370
        }
      },
      "cell_type": "code",
      "source": [
        "my_model.components_"
      ],
      "execution_count": 0,
      "outputs": [
        {
          "output_type": "execute_result",
          "data": {
            "text/plain": [
              "array([[-4.02068637e-03,  1.40216831e-04, -2.33232275e-04,\n",
              "         3.15710050e-02, -9.99489843e-01,  2.07397317e-03,\n",
              "        -1.66870588e-03],\n",
              "       [-1.11352833e-02,  5.48550830e-03,  4.25771533e-03,\n",
              "         9.99401218e-01,  3.16171166e-02, -1.71646468e-03,\n",
              "        -4.73319173e-03],\n",
              "       [-8.94878958e-01, -8.00944384e-03, -9.17406131e-03,\n",
              "        -8.46998328e-03,  3.88790068e-03,  4.09508717e-01,\n",
              "         1.76802408e-01],\n",
              "       [-9.43583894e-02, -1.18286177e-02,  4.40540581e-02,\n",
              "        -5.47825708e-03,  2.25965767e-03,  2.13746793e-01,\n",
              "        -9.71232727e-01],\n",
              "       [ 4.35873289e-01, -2.03812704e-02, -3.83427027e-02,\n",
              "         7.36715487e-03,  7.18090078e-05,  8.86132907e-01,\n",
              "         1.51139367e-01],\n",
              "       [ 1.25774117e-02, -1.10629528e-01,  9.92149808e-01,\n",
              "        -3.18149907e-03, -4.29845996e-04,  2.55657487e-02,\n",
              "         5.07716519e-02],\n",
              "       [ 2.06647892e-03,  9.93534868e-01,  1.10115801e-01,\n",
              "        -5.85898541e-03, -2.16521933e-05,  2.68800150e-02,\n",
              "        -1.35757441e-03]])"
            ]
          },
          "metadata": {
            "tags": []
          },
          "execution_count": 50
        }
      ]
    },
    {
      "metadata": {
        "id": "XpqLpYs5sX48",
        "colab_type": "code",
        "outputId": "25d3fcc2-106c-44ef-e29e-f743ab748de9",
        "colab": {
          "base_uri": "https://localhost:8080/",
          "height": 1810
        }
      },
      "cell_type": "code",
      "source": [
        "from sklearn.decomposition import PCA\n",
        "import seaborn as sns\n",
        "import numpy as np\n",
        "import matplotlib.pyplot as plt\n",
        "\n",
        "n_components = 7\n",
        "\n",
        "# Do the PCA.\n",
        "pca = PCA(n_components=n_components)\n",
        "reduced = pca.fit_transform(df_)\n",
        "\n",
        "# Append the principle components for each entry to the dataframe\n",
        "for i in range(0, n_components):\n",
        "    df_['PC' + str(i + 1)] = reduced[:, i]\n",
        "\n",
        "display(df_.head())\n",
        "\n",
        "# Do a screen plot\n",
        "ind = np.arange(0, n_components)\n",
        "(fig, ax) = plt.subplots(figsize=(8, 6))\n",
        "sns.pointplot(x=ind, y=pca.explained_variance_ratio_)\n",
        "ax.set_title('Screen plot')\n",
        "ax.set_xticks(ind)\n",
        "ax.set_xticklabels(ind)\n",
        "ax.set_xlabel('Component Number')\n",
        "ax.set_ylabel('Explained Variance')\n",
        "plt.show()\n",
        "\n",
        "# Show the points in terms of the first two PCs\n",
        "g = sns.lmplot('PC1',\n",
        "               'PC2',\n",
        "               data=df_, \n",
        "               fit_reg=False,\n",
        "               scatter=True,\n",
        "               size=7)\n",
        "\n",
        "plt.show()\n",
        "\n",
        "# Plot a variable factor map for the first two dimensions.\n",
        "(fig, ax) = plt.subplots(figsize=(12, 12))\n",
        "for i in range(0, len(pca.components_)):\n",
        "    ax.arrow(0,\n",
        "             0,  # Start the arrow at the origin\n",
        "             pca.components_[0, i],  #0 for PC1\n",
        "             pca.components_[1, i],  #1 for PC2\n",
        "             head_width=0.1,\n",
        "             head_length=0.1)\n",
        "\n",
        "    plt.text(pca.components_[0, i] + 0.05,\n",
        "         pca.components_[1, i] + 0.05,\n",
        "         df_.columns.values[i])\n",
        "\n",
        "an = np.linspace(0, 2 * np.pi, 100)\n",
        "plt.plot(np.cos(an), np.sin(an))  # Add a unit circle for scale\n",
        "plt.axis('equal')\n",
        "ax.set_title('Variable factor map')\n",
        "plt.show()"
      ],
      "execution_count": 0,
      "outputs": [
        {
          "output_type": "display_data",
          "data": {
            "text/html": [
              "<div>\n",
              "<style scoped>\n",
              "    .dataframe tbody tr th:only-of-type {\n",
              "        vertical-align: middle;\n",
              "    }\n",
              "\n",
              "    .dataframe tbody tr th {\n",
              "        vertical-align: top;\n",
              "    }\n",
              "\n",
              "    .dataframe thead th {\n",
              "        text-align: right;\n",
              "    }\n",
              "</style>\n",
              "<table border=\"1\" class=\"dataframe\">\n",
              "  <thead>\n",
              "    <tr style=\"text-align: right;\">\n",
              "      <th></th>\n",
              "      <th>Ax_X_mean</th>\n",
              "      <th>Ax_X_std</th>\n",
              "      <th>Or_Y_std</th>\n",
              "      <th>Gy_Y_std</th>\n",
              "      <th>Gy_Y_min</th>\n",
              "      <th>Ax_X_max</th>\n",
              "      <th>Or_X_rms</th>\n",
              "      <th>PC1</th>\n",
              "      <th>PC2</th>\n",
              "      <th>PC3</th>\n",
              "      <th>PC4</th>\n",
              "      <th>PC5</th>\n",
              "      <th>PC6</th>\n",
              "      <th>PC7</th>\n",
              "    </tr>\n",
              "  </thead>\n",
              "  <tbody>\n",
              "    <tr>\n",
              "      <th>0</th>\n",
              "      <td>0.946425</td>\n",
              "      <td>0.063256</td>\n",
              "      <td>0.441103</td>\n",
              "      <td>17.903207</td>\n",
              "      <td>-66.875</td>\n",
              "      <td>0.188</td>\n",
              "      <td>0.571991</td>\n",
              "      <td>-56.931021</td>\n",
              "      <td>3.820634</td>\n",
              "      <td>-0.179274</td>\n",
              "      <td>0.088813</td>\n",
              "      <td>-0.016805</td>\n",
              "      <td>0.646541</td>\n",
              "      <td>-0.043752</td>\n",
              "    </tr>\n",
              "    <tr>\n",
              "      <th>1</th>\n",
              "      <td>0.799442</td>\n",
              "      <td>0.090656</td>\n",
              "      <td>0.069035</td>\n",
              "      <td>12.515566</td>\n",
              "      <td>-57.312</td>\n",
              "      <td>0.122</td>\n",
              "      <td>0.823019</td>\n",
              "      <td>-76.387198</td>\n",
              "      <td>-6.345230</td>\n",
              "      <td>0.290514</td>\n",
              "      <td>-0.330458</td>\n",
              "      <td>-0.236620</td>\n",
              "      <td>-0.053336</td>\n",
              "      <td>-0.013367</td>\n",
              "    </tr>\n",
              "    <tr>\n",
              "      <th>2</th>\n",
              "      <td>0.831530</td>\n",
              "      <td>0.132440</td>\n",
              "      <td>0.090091</td>\n",
              "      <td>20.794830</td>\n",
              "      <td>-115.190</td>\n",
              "      <td>0.096</td>\n",
              "      <td>0.466557</td>\n",
              "      <td>39.833343</td>\n",
              "      <td>6.546899</td>\n",
              "      <td>-0.505611</td>\n",
              "      <td>-0.006628</td>\n",
              "      <td>-0.252119</td>\n",
              "      <td>-0.060443</td>\n",
              "      <td>-0.020508</td>\n",
              "    </tr>\n",
              "    <tr>\n",
              "      <th>3</th>\n",
              "      <td>0.907349</td>\n",
              "      <td>0.110793</td>\n",
              "      <td>0.076859</td>\n",
              "      <td>15.878719</td>\n",
              "      <td>-79.312</td>\n",
              "      <td>0.116</td>\n",
              "      <td>0.791635</td>\n",
              "      <td>-32.198075</td>\n",
              "      <td>-1.015903</td>\n",
              "      <td>-0.147131</td>\n",
              "      <td>-0.428485</td>\n",
              "      <td>-0.117700</td>\n",
              "      <td>-0.045533</td>\n",
              "      <td>-0.009877</td>\n",
              "    </tr>\n",
              "    <tr>\n",
              "      <th>4</th>\n",
              "      <td>0.793477</td>\n",
              "      <td>0.137349</td>\n",
              "      <td>0.081490</td>\n",
              "      <td>19.122790</td>\n",
              "      <td>-162.630</td>\n",
              "      <td>0.484</td>\n",
              "      <td>0.781090</td>\n",
              "      <td>134.560234</td>\n",
              "      <td>0.201507</td>\n",
              "      <td>-0.348987</td>\n",
              "      <td>-0.641500</td>\n",
              "      <td>0.466435</td>\n",
              "      <td>0.023648</td>\n",
              "      <td>0.028846</td>\n",
              "    </tr>\n",
              "  </tbody>\n",
              "</table>\n",
              "</div>"
            ],
            "text/plain": [
              "   Ax_X_mean  Ax_X_std  Or_Y_std   Gy_Y_std  Gy_Y_min  Ax_X_max  Or_X_rms  \\\n",
              "0   0.946425  0.063256  0.441103  17.903207   -66.875     0.188  0.571991   \n",
              "1   0.799442  0.090656  0.069035  12.515566   -57.312     0.122  0.823019   \n",
              "2   0.831530  0.132440  0.090091  20.794830  -115.190     0.096  0.466557   \n",
              "3   0.907349  0.110793  0.076859  15.878719   -79.312     0.116  0.791635   \n",
              "4   0.793477  0.137349  0.081490  19.122790  -162.630     0.484  0.781090   \n",
              "\n",
              "          PC1       PC2       PC3       PC4       PC5       PC6       PC7  \n",
              "0  -56.931021  3.820634 -0.179274  0.088813 -0.016805  0.646541 -0.043752  \n",
              "1  -76.387198 -6.345230  0.290514 -0.330458 -0.236620 -0.053336 -0.013367  \n",
              "2   39.833343  6.546899 -0.505611 -0.006628 -0.252119 -0.060443 -0.020508  \n",
              "3  -32.198075 -1.015903 -0.147131 -0.428485 -0.117700 -0.045533 -0.009877  \n",
              "4  134.560234  0.201507 -0.348987 -0.641500  0.466435  0.023648  0.028846  "
            ]
          },
          "metadata": {
            "tags": []
          }
        },
        {
          "output_type": "stream",
          "text": [
            "/usr/local/lib/python3.6/dist-packages/seaborn/categorical.py:1428: FutureWarning: remove_na is deprecated and is a private function. Do not use.\n",
            "  stat_data = remove_na(group_data)\n"
          ],
          "name": "stderr"
        },
        {
          "output_type": "display_data",
          "data": {
            "image/png": "[encoded data removed]",
            "text/plain": [
              "<Figure size 576x432 with 1 Axes>"
            ]
          },
          "metadata": {
            "tags": []
          }
        },
        {
          "output_type": "display_data",
          "data": {
            "image/png": "[encoded data removed]",
            "text/plain": [
              "<Figure size 504x504 with 1 Axes>"
            ]
          },
          "metadata": {
            "tags": []
          }
        },
        {
          "output_type": "display_data",
          "data": {
            "image/png": "[encoded data removed]",
            "text/plain": [
              "<Figure size 864x864 with 1 Axes>"
            ]
          },
          "metadata": {
            "tags": []
          }
        }
      ]
    },
    {
      "metadata": {
        "id": "WQzkIFIcsg4T",
        "colab_type": "code",
        "outputId": "5932dcea-5218-4121-93d6-0da46b98914f",
        "colab": {
          "base_uri": "https://localhost:8080/",
          "height": 248
        }
      },
      "cell_type": "code",
      "source": [
        "%matplotlib inline\n",
        "import numpy as np\n",
        "from mpl_toolkits import mplot3d\n",
        "import matplotlib.pyplot as plt\n",
        "fig = plt.figure()\n",
        "ax = plt.axes(projection='3d')\n",
        "\n",
        "\n",
        "# Data for three-dimensional scattered points\n",
        "zdata = df_['PC3']\n",
        "xdata = df_['PC1']\n",
        "ydata = df_['PC2']\n",
        "ax.scatter3D(xdata, ydata, zdata);"
      ],
      "execution_count": 0,
      "outputs": [
        {
          "output_type": "display_data",
          "data": {
            "image/png": "[encoded data removed]",
            "text/plain": [
              "<Figure size 432x288 with 1 Axes>"
            ]
          },
          "metadata": {
            "tags": []
          }
        }
      ]
    },
    {
      "metadata": {
        "id": "i7TD6mCZsnn_",
        "colab_type": "code",
        "colab": {}
      },
      "cell_type": "code",
      "source": [
        ""
      ],
      "execution_count": 0,
      "outputs": []
    }
  ]
}